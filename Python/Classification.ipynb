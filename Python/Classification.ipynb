{
 "cells": [
  {
   "cell_type": "code",
   "execution_count": 137,
   "metadata": {},
   "outputs": [],
   "source": [
    "from transformers import BertTokenizer, BertModel\n",
    "import torch\n",
    "from torch.utils.data import Dataset, DataLoader\n",
    "import pandas as pd\n",
    "from sklearn.model_selection import train_test_split\n",
    "from sklearn.metrics import classification_report\n",
    "from torch import nn\n",
    "import os\n",
    "from dotenv import load_dotenv\n",
    "from datasets import Dataset\n",
    "from imblearn.over_sampling import RandomOverSampler  # For advanced oversampling\n"
   ]
  },
  {
   "cell_type": "code",
   "execution_count": 76,
   "metadata": {},
   "outputs": [
    {
     "data": {
      "text/plain": [
       "True"
      ]
     },
     "execution_count": 76,
     "metadata": {},
     "output_type": "execute_result"
    }
   ],
   "source": [
    "from pathlib import Path\n",
    "from dotenv import load_dotenv\n",
    "env_path = Path('/Users/pranavturlapati/COMP-560-Deepseekers/.env')\n",
    "load_dotenv(dotenv_path=env_path)\n"
   ]
  },
  {
   "cell_type": "code",
   "execution_count": 77,
   "metadata": {},
   "outputs": [],
   "source": [
    "text_df = pd.read_csv('/Users/pranavturlapati/COMP-560-Deepseekers/Data/Classification Data/inputs_text.csv')         # column: raw_text\n",
    "json_df = pd.read_csv('/Users/pranavturlapati/COMP-560-Deepseekers/Data/Classification Data/inputs_json.csv') # column: json_output\n",
    "label_df = pd.read_csv('/Users/pranavturlapati/COMP-560-Deepseekers/Data/Classification Data/outputs.csv')      # binary labels (0 or 1)"
   ]
  },
  {
   "cell_type": "code",
   "execution_count": 78,
   "metadata": {},
   "outputs": [
    {
     "data": {
      "text/html": [
       "<div>\n",
       "<style scoped>\n",
       "    .dataframe tbody tr th:only-of-type {\n",
       "        vertical-align: middle;\n",
       "    }\n",
       "\n",
       "    .dataframe tbody tr th {\n",
       "        vertical-align: top;\n",
       "    }\n",
       "\n",
       "    .dataframe thead th {\n",
       "        text-align: right;\n",
       "    }\n",
       "</style>\n",
       "<table border=\"1\" class=\"dataframe\">\n",
       "  <thead>\n",
       "    <tr style=\"text-align: right;\">\n",
       "      <th></th>\n",
       "      <th>bkn_nop</th>\n",
       "      <th>sac_cha</th>\n",
       "      <th>cle_det</th>\n",
       "      <th>den_chi</th>\n",
       "      <th>nyk_cha</th>\n",
       "      <th>lal_okc</th>\n",
       "      <th>lac_sas</th>\n",
       "    </tr>\n",
       "  </thead>\n",
       "  <tbody>\n",
       "    <tr>\n",
       "      <th>0</th>\n",
       "      <td>alvarado fires away and buries the three</td>\n",
       "      <td>hurry seth Hurry nobody stopped the ball oh th...</td>\n",
       "      <td>this is rush it up Malik be a step up two won'...</td>\n",
       "      <td>Bulls beat the Nuggets earlier in the season a...</td>\n",
       "      <td>was oh my goodness going to give him some vert...</td>\n",
       "      <td>set to go here at center court And away we go ...</td>\n",
       "      <td>great to see coach Van Dundy back as the ball ...</td>\n",
       "    </tr>\n",
       "    <tr>\n",
       "      <th>1</th>\n",
       "      <td>immediately after that miss not too often that...</td>\n",
       "      <td>damonte Sabonis has led the NBA in rebounding ...</td>\n",
       "      <td>Mobley on the perimeter flips to Donovan Mitch...</td>\n",
       "      <td>Murray's going to be guarded by giddy he's got...</td>\n",
       "      <td>hornets going to take on Thunder tomorrow in OKC</td>\n",
       "      <td>we have an incredible color scheme tonight uni...</td>\n",
       "      <td>it'll be Clipper ball this has truly felt like...</td>\n",
       "    </tr>\n",
       "    <tr>\n",
       "      <th>2</th>\n",
       "      <td>have you never experienced it yourself i I hav...</td>\n",
       "      <td>look at that fancy right-handed finger roll mi...</td>\n",
       "      <td>jayen Z scream for Dennis Sher all the way ins...</td>\n",
       "      <td>okay in the lane the shot is good Jordan who h...</td>\n",
       "      <td>first bucket for the Knicks carl Anthony Towns</td>\n",
       "      <td>We got the Lakers with their gold unis</td>\n",
       "      <td>zoo gets the first touch for the Clippers goin...</td>\n",
       "    </tr>\n",
       "    <tr>\n",
       "      <th>3</th>\n",
       "      <td>olen had it slapped away by Williams perfectly...</td>\n",
       "      <td>simpson takes his time and scores his first two</td>\n",
       "      <td>M with a high screen for Darius Garland gets i...</td>\n",
       "      <td>Murray is inside I was going to say a career h...</td>\n",
       "      <td>if you set the pace move around they can't use...</td>\n",
       "      <td>starts off things with a scoring of the two</td>\n",
       "      <td>he's made his last 12 tonight is Zoo's 77th ga...</td>\n",
       "    </tr>\n",
       "    <tr>\n",
       "      <th>4</th>\n",
       "      <td>alvarado buries the three jose Alvarado's seco...</td>\n",
       "      <td>nice little move in the paint there by Nerkage</td>\n",
       "      <td>easy down deep for a dunk to Jaylen Duran</td>\n",
       "      <td>vich over to Giddy buellis lets it go that's good</td>\n",
       "      <td>can you steal points like that good jeff with ...</td>\n",
       "      <td>Reeves had a clean look and the Lakers get a t...</td>\n",
       "      <td>dunn lobs to Derek Jones Jr look out below too...</td>\n",
       "    </tr>\n",
       "  </tbody>\n",
       "</table>\n",
       "</div>"
      ],
      "text/plain": [
       "                                             bkn_nop  \\\n",
       "0           alvarado fires away and buries the three   \n",
       "1  immediately after that miss not too often that...   \n",
       "2  have you never experienced it yourself i I hav...   \n",
       "3  olen had it slapped away by Williams perfectly...   \n",
       "4  alvarado buries the three jose Alvarado's seco...   \n",
       "\n",
       "                                             sac_cha  \\\n",
       "0  hurry seth Hurry nobody stopped the ball oh th...   \n",
       "1  damonte Sabonis has led the NBA in rebounding ...   \n",
       "2  look at that fancy right-handed finger roll mi...   \n",
       "3    simpson takes his time and scores his first two   \n",
       "4     nice little move in the paint there by Nerkage   \n",
       "\n",
       "                                             cle_det  \\\n",
       "0  this is rush it up Malik be a step up two won'...   \n",
       "1  Mobley on the perimeter flips to Donovan Mitch...   \n",
       "2  jayen Z scream for Dennis Sher all the way ins...   \n",
       "3  M with a high screen for Darius Garland gets i...   \n",
       "4          easy down deep for a dunk to Jaylen Duran   \n",
       "\n",
       "                                             den_chi  \\\n",
       "0  Bulls beat the Nuggets earlier in the season a...   \n",
       "1  Murray's going to be guarded by giddy he's got...   \n",
       "2  okay in the lane the shot is good Jordan who h...   \n",
       "3  Murray is inside I was going to say a career h...   \n",
       "4  vich over to Giddy buellis lets it go that's good   \n",
       "\n",
       "                                             nyk_cha  \\\n",
       "0  was oh my goodness going to give him some vert...   \n",
       "1   hornets going to take on Thunder tomorrow in OKC   \n",
       "2     first bucket for the Knicks carl Anthony Towns   \n",
       "3  if you set the pace move around they can't use...   \n",
       "4  can you steal points like that good jeff with ...   \n",
       "\n",
       "                                             lal_okc  \\\n",
       "0  set to go here at center court And away we go ...   \n",
       "1  we have an incredible color scheme tonight uni...   \n",
       "2             We got the Lakers with their gold unis   \n",
       "3        starts off things with a scoring of the two   \n",
       "4  Reeves had a clean look and the Lakers get a t...   \n",
       "\n",
       "                                             lac_sas  \n",
       "0  great to see coach Van Dundy back as the ball ...  \n",
       "1  it'll be Clipper ball this has truly felt like...  \n",
       "2  zoo gets the first touch for the Clippers goin...  \n",
       "3  he's made his last 12 tonight is Zoo's 77th ga...  \n",
       "4  dunn lobs to Derek Jones Jr look out below too...  "
      ]
     },
     "execution_count": 78,
     "metadata": {},
     "output_type": "execute_result"
    }
   ],
   "source": [
    "text_df.head()"
   ]
  },
  {
   "cell_type": "code",
   "execution_count": 79,
   "metadata": {},
   "outputs": [
    {
     "data": {
      "text/html": [
       "<div>\n",
       "<style scoped>\n",
       "    .dataframe tbody tr th:only-of-type {\n",
       "        vertical-align: middle;\n",
       "    }\n",
       "\n",
       "    .dataframe tbody tr th {\n",
       "        vertical-align: top;\n",
       "    }\n",
       "\n",
       "    .dataframe thead th {\n",
       "        text-align: right;\n",
       "    }\n",
       "</style>\n",
       "<table border=\"1\" class=\"dataframe\">\n",
       "  <thead>\n",
       "    <tr style=\"text-align: right;\">\n",
       "      <th></th>\n",
       "      <th>bkn_nop</th>\n",
       "      <th>sac_cha</th>\n",
       "      <th>cle_det</th>\n",
       "      <th>den_chi</th>\n",
       "      <th>nyk_cha</th>\n",
       "      <th>lal_okc</th>\n",
       "      <th>lac_sas</th>\n",
       "    </tr>\n",
       "  </thead>\n",
       "  <tbody>\n",
       "    <tr>\n",
       "      <th>0</th>\n",
       "      <td>\"{\\\"team\\\":\\\"BKN\\\",\\\"opponent\\\":\\\"NOP\\\",\\\"grap...</td>\n",
       "      <td>\"{\\\"team\\\":\\\"SAC\\\",\\\"opponent\\\":\\\"CHA\\\",\\\"grap...</td>\n",
       "      <td>\"{\\\"team\\\":\\\"CLE\\\",\\\"opponent\\\":\\\"DET\\\",\\\"grap...</td>\n",
       "      <td>\"{\\\"team\\\":\\\"DEN\\\",\\\"opponent\\\":\\\"CHI\\\",\\\"grap...</td>\n",
       "      <td>\"{\\\"team\\\":\\\"NYK\\\",\\\"opponent\\\":\\\"CHA\\\",\\\"grap...</td>\n",
       "      <td>{\\team\\\":\\\"LAL\\\",\\\"opponent\\\":\\\"OKC\\\",\\\"graph\\...</td>\n",
       "      <td>{\\team\\\":\\\"LAC\\\",\\\"opponent\\\":\\\"SAS\\\",\\\"graph\\...</td>\n",
       "    </tr>\n",
       "    <tr>\n",
       "      <th>1</th>\n",
       "      <td>\"{\\\"team\\\":\\\"BKN\\\",\\\"opponent\\\":\\\"NOP\\\",\\\"grap...</td>\n",
       "      <td>\"{\\\"team\\\":\\\"SAC\\\",\\\"opponent\\\":\\\"CHA\\\",\\\"grap...</td>\n",
       "      <td>\"{\\\"team\\\":\\\"CLE\\\",\\\"opponent\\\":\\\"DET\\\",\\\"grap...</td>\n",
       "      <td>\"{\\\"team\\\":\\\"DEN\\\",\\\"opponent\\\":\\\"CHI\\\",\\\"grap...</td>\n",
       "      <td>\"{\\\"team\\\":\\\"NYK\\\",\\\"opponent\\\":\\\"CHA\\\",\\\"grap...</td>\n",
       "      <td>{\\team\\\":\\\"LAL\\\",\\\"opponent\\\":\\\"OKC\\\",\\\"graph\\...</td>\n",
       "      <td>{\\team\\\":\\\"LAC\\\",\\\"opponent\\\":\\\"SAS\\\",\\\"graph\\...</td>\n",
       "    </tr>\n",
       "    <tr>\n",
       "      <th>2</th>\n",
       "      <td>\"{\\\"team\\\":\\\"BKN\\\",\\\"opponent\\\":\\\"NOP\\\",\\\"grap...</td>\n",
       "      <td>\"{\\\"team\\\":\\\"SAC\\\",\\\"opponent\\\":\\\"CHA\\\",\\\"grap...</td>\n",
       "      <td>\"{\\\"team\\\":\\\"CLE\\\",\\\"opponent\\\":\\\"DET\\\",\\\"grap...</td>\n",
       "      <td>\"{\\\"team\\\":\\\"DEN\\\",\\\"opponent\\\":\\\"CHI\\\",\\\"grap...</td>\n",
       "      <td>\"{\\\"team\\\":\\\"NYK\\\",\\\"opponent\\\":\\\"CHA\\\",\\\"grap...</td>\n",
       "      <td>{\\team\\\":\\\"LAL\\\",\\\"opponent\\\":\\\"OKC\\\",\\\"graph\\...</td>\n",
       "      <td>{\\team\\\":\\\"LAC\\\",\\\"opponent\\\":\\\"SAS\\\",\\\"graph\\...</td>\n",
       "    </tr>\n",
       "    <tr>\n",
       "      <th>3</th>\n",
       "      <td>\"{\\\"team\\\":\\\"BKN\\\",\\\"opponent\\\":\\\"NOP\\\",\\\"grap...</td>\n",
       "      <td>\"{\\\"team\\\":\\\"SAC\\\",\\\"opponent\\\":\\\"CHA\\\",\\\"grap...</td>\n",
       "      <td>\"{\\\"team\\\":\\\"CLE\\\",\\\"opponent\\\":\\\"DET\\\",\\\"grap...</td>\n",
       "      <td>\"{\\\"team\\\":\\\"DEN\\\",\\\"opponent\\\":\\\"CHI\\\",\\\"grap...</td>\n",
       "      <td>\"{\\\"team\\\":\\\"NYK\\\",\\\"opponent\\\":\\\"CHA\\\",\\\"grap...</td>\n",
       "      <td>{\\team\\\":\\\"LAL\\\",\\\"opponent\\\":\\\"OKC\\\",\\\"graph\\...</td>\n",
       "      <td>{\\team\\\":\\\"LAC\\\",\\\"opponent\\\":\\\"SAS\\\",\\\"graph\\...</td>\n",
       "    </tr>\n",
       "    <tr>\n",
       "      <th>4</th>\n",
       "      <td>\"{\\\"team\\\":\\\"BKN\\\",\\\"opponent\\\":\\\"NOP\\\",\\\"grap...</td>\n",
       "      <td>\"{\\\"team\\\":\\\"SAC\\\",\\\"opponent\\\":\\\"CHA\\\",\\\"grap...</td>\n",
       "      <td>\"{\\\"team\\\":\\\"CLE\\\",\\\"opponent\\\":\\\"DET\\\",\\\"grap...</td>\n",
       "      <td>\"{\\\"team\\\":\\\"DEN\\\",\\\"opponent\\\":\\\"CHI\\\",\\\"grap...</td>\n",
       "      <td>\"{\\\"team\\\":\\\"NYK\\\",\\\"opponent\\\":\\\"CHA\\\",\\\"grap...</td>\n",
       "      <td>{\\team\\\":\\\"LAL\\\",\\\"opponent\\\":\\\"OKC\\\",\\\"graph\\...</td>\n",
       "      <td>{\\team\\\":\\\"LAC\\\",\\\"opponent\\\":\\\"SAS\\\",\\\"graph\\...</td>\n",
       "    </tr>\n",
       "  </tbody>\n",
       "</table>\n",
       "</div>"
      ],
      "text/plain": [
       "                                             bkn_nop  \\\n",
       "0  \"{\\\"team\\\":\\\"BKN\\\",\\\"opponent\\\":\\\"NOP\\\",\\\"grap...   \n",
       "1  \"{\\\"team\\\":\\\"BKN\\\",\\\"opponent\\\":\\\"NOP\\\",\\\"grap...   \n",
       "2  \"{\\\"team\\\":\\\"BKN\\\",\\\"opponent\\\":\\\"NOP\\\",\\\"grap...   \n",
       "3  \"{\\\"team\\\":\\\"BKN\\\",\\\"opponent\\\":\\\"NOP\\\",\\\"grap...   \n",
       "4  \"{\\\"team\\\":\\\"BKN\\\",\\\"opponent\\\":\\\"NOP\\\",\\\"grap...   \n",
       "\n",
       "                                             sac_cha  \\\n",
       "0  \"{\\\"team\\\":\\\"SAC\\\",\\\"opponent\\\":\\\"CHA\\\",\\\"grap...   \n",
       "1  \"{\\\"team\\\":\\\"SAC\\\",\\\"opponent\\\":\\\"CHA\\\",\\\"grap...   \n",
       "2  \"{\\\"team\\\":\\\"SAC\\\",\\\"opponent\\\":\\\"CHA\\\",\\\"grap...   \n",
       "3  \"{\\\"team\\\":\\\"SAC\\\",\\\"opponent\\\":\\\"CHA\\\",\\\"grap...   \n",
       "4  \"{\\\"team\\\":\\\"SAC\\\",\\\"opponent\\\":\\\"CHA\\\",\\\"grap...   \n",
       "\n",
       "                                             cle_det  \\\n",
       "0  \"{\\\"team\\\":\\\"CLE\\\",\\\"opponent\\\":\\\"DET\\\",\\\"grap...   \n",
       "1  \"{\\\"team\\\":\\\"CLE\\\",\\\"opponent\\\":\\\"DET\\\",\\\"grap...   \n",
       "2  \"{\\\"team\\\":\\\"CLE\\\",\\\"opponent\\\":\\\"DET\\\",\\\"grap...   \n",
       "3  \"{\\\"team\\\":\\\"CLE\\\",\\\"opponent\\\":\\\"DET\\\",\\\"grap...   \n",
       "4  \"{\\\"team\\\":\\\"CLE\\\",\\\"opponent\\\":\\\"DET\\\",\\\"grap...   \n",
       "\n",
       "                                             den_chi  \\\n",
       "0  \"{\\\"team\\\":\\\"DEN\\\",\\\"opponent\\\":\\\"CHI\\\",\\\"grap...   \n",
       "1  \"{\\\"team\\\":\\\"DEN\\\",\\\"opponent\\\":\\\"CHI\\\",\\\"grap...   \n",
       "2  \"{\\\"team\\\":\\\"DEN\\\",\\\"opponent\\\":\\\"CHI\\\",\\\"grap...   \n",
       "3  \"{\\\"team\\\":\\\"DEN\\\",\\\"opponent\\\":\\\"CHI\\\",\\\"grap...   \n",
       "4  \"{\\\"team\\\":\\\"DEN\\\",\\\"opponent\\\":\\\"CHI\\\",\\\"grap...   \n",
       "\n",
       "                                             nyk_cha  \\\n",
       "0  \"{\\\"team\\\":\\\"NYK\\\",\\\"opponent\\\":\\\"CHA\\\",\\\"grap...   \n",
       "1  \"{\\\"team\\\":\\\"NYK\\\",\\\"opponent\\\":\\\"CHA\\\",\\\"grap...   \n",
       "2  \"{\\\"team\\\":\\\"NYK\\\",\\\"opponent\\\":\\\"CHA\\\",\\\"grap...   \n",
       "3  \"{\\\"team\\\":\\\"NYK\\\",\\\"opponent\\\":\\\"CHA\\\",\\\"grap...   \n",
       "4  \"{\\\"team\\\":\\\"NYK\\\",\\\"opponent\\\":\\\"CHA\\\",\\\"grap...   \n",
       "\n",
       "                                             lal_okc  \\\n",
       "0  {\\team\\\":\\\"LAL\\\",\\\"opponent\\\":\\\"OKC\\\",\\\"graph\\...   \n",
       "1  {\\team\\\":\\\"LAL\\\",\\\"opponent\\\":\\\"OKC\\\",\\\"graph\\...   \n",
       "2  {\\team\\\":\\\"LAL\\\",\\\"opponent\\\":\\\"OKC\\\",\\\"graph\\...   \n",
       "3  {\\team\\\":\\\"LAL\\\",\\\"opponent\\\":\\\"OKC\\\",\\\"graph\\...   \n",
       "4  {\\team\\\":\\\"LAL\\\",\\\"opponent\\\":\\\"OKC\\\",\\\"graph\\...   \n",
       "\n",
       "                                             lac_sas  \n",
       "0  {\\team\\\":\\\"LAC\\\",\\\"opponent\\\":\\\"SAS\\\",\\\"graph\\...  \n",
       "1  {\\team\\\":\\\"LAC\\\",\\\"opponent\\\":\\\"SAS\\\",\\\"graph\\...  \n",
       "2  {\\team\\\":\\\"LAC\\\",\\\"opponent\\\":\\\"SAS\\\",\\\"graph\\...  \n",
       "3  {\\team\\\":\\\"LAC\\\",\\\"opponent\\\":\\\"SAS\\\",\\\"graph\\...  \n",
       "4  {\\team\\\":\\\"LAC\\\",\\\"opponent\\\":\\\"SAS\\\",\\\"graph\\...  "
      ]
     },
     "execution_count": 79,
     "metadata": {},
     "output_type": "execute_result"
    }
   ],
   "source": [
    "json_df.head()"
   ]
  },
  {
   "cell_type": "code",
   "execution_count": 80,
   "metadata": {},
   "outputs": [
    {
     "data": {
      "text/html": [
       "<div>\n",
       "<style scoped>\n",
       "    .dataframe tbody tr th:only-of-type {\n",
       "        vertical-align: middle;\n",
       "    }\n",
       "\n",
       "    .dataframe tbody tr th {\n",
       "        vertical-align: top;\n",
       "    }\n",
       "\n",
       "    .dataframe thead th {\n",
       "        text-align: right;\n",
       "    }\n",
       "</style>\n",
       "<table border=\"1\" class=\"dataframe\">\n",
       "  <thead>\n",
       "    <tr style=\"text-align: right;\">\n",
       "      <th></th>\n",
       "      <th>bkn_nop</th>\n",
       "      <th>sac_cha</th>\n",
       "      <th>cle_det</th>\n",
       "      <th>den_chi</th>\n",
       "      <th>nyk_cha</th>\n",
       "      <th>lal_okc</th>\n",
       "      <th>lac_sas</th>\n",
       "    </tr>\n",
       "  </thead>\n",
       "  <tbody>\n",
       "    <tr>\n",
       "      <th>0</th>\n",
       "      <td>1</td>\n",
       "      <td>1</td>\n",
       "      <td>1</td>\n",
       "      <td>1</td>\n",
       "      <td>1</td>\n",
       "      <td>1</td>\n",
       "      <td>1</td>\n",
       "    </tr>\n",
       "    <tr>\n",
       "      <th>1</th>\n",
       "      <td>1</td>\n",
       "      <td>1</td>\n",
       "      <td>1</td>\n",
       "      <td>1</td>\n",
       "      <td>0</td>\n",
       "      <td>1</td>\n",
       "      <td>1</td>\n",
       "    </tr>\n",
       "    <tr>\n",
       "      <th>2</th>\n",
       "      <td>1</td>\n",
       "      <td>1</td>\n",
       "      <td>1</td>\n",
       "      <td>1</td>\n",
       "      <td>1</td>\n",
       "      <td>1</td>\n",
       "      <td>1</td>\n",
       "    </tr>\n",
       "    <tr>\n",
       "      <th>3</th>\n",
       "      <td>1</td>\n",
       "      <td>1</td>\n",
       "      <td>1</td>\n",
       "      <td>1</td>\n",
       "      <td>0</td>\n",
       "      <td>1</td>\n",
       "      <td>1</td>\n",
       "    </tr>\n",
       "    <tr>\n",
       "      <th>4</th>\n",
       "      <td>1</td>\n",
       "      <td>1</td>\n",
       "      <td>1</td>\n",
       "      <td>1</td>\n",
       "      <td>1</td>\n",
       "      <td>1</td>\n",
       "      <td>1</td>\n",
       "    </tr>\n",
       "  </tbody>\n",
       "</table>\n",
       "</div>"
      ],
      "text/plain": [
       "   bkn_nop  sac_cha  cle_det  den_chi  nyk_cha  lal_okc  lac_sas\n",
       "0        1        1        1        1        1        1        1\n",
       "1        1        1        1        1        0        1        1\n",
       "2        1        1        1        1        1        1        1\n",
       "3        1        1        1        1        0        1        1\n",
       "4        1        1        1        1        1        1        1"
      ]
     },
     "execution_count": 80,
     "metadata": {},
     "output_type": "execute_result"
    }
   ],
   "source": [
    "label_df.head()"
   ]
  },
  {
   "cell_type": "code",
   "execution_count": 81,
   "metadata": {},
   "outputs": [],
   "source": [
    "df_text_long = text_df.melt(var_name='game_id', value_name='text')\n",
    "df_json_long = json_df.melt(var_name='game_id', value_name='json_output')\n",
    "df_label_long = label_df.melt(var_name='game_id', value_name='label')\n"
   ]
  },
  {
   "cell_type": "code",
   "execution_count": 82,
   "metadata": {},
   "outputs": [],
   "source": [
    "df_text_long['row'] = df_text_long.index\n",
    "df_json_long['row'] = df_json_long.index\n",
    "df_label_long['row'] = df_label_long.index"
   ]
  },
  {
   "cell_type": "code",
   "execution_count": 83,
   "metadata": {},
   "outputs": [],
   "source": [
    "merged = df_text_long.merge(df_json_long, on=['game_id', 'row']).merge(df_label_long, on=['game_id', 'row'])\n"
   ]
  },
  {
   "cell_type": "code",
   "execution_count": 84,
   "metadata": {},
   "outputs": [],
   "source": [
    "merged = merged[['game_id', 'text', 'json_output', 'label']]"
   ]
  },
  {
   "cell_type": "code",
   "execution_count": 85,
   "metadata": {},
   "outputs": [
    {
     "data": {
      "text/html": [
       "<div>\n",
       "<style scoped>\n",
       "    .dataframe tbody tr th:only-of-type {\n",
       "        vertical-align: middle;\n",
       "    }\n",
       "\n",
       "    .dataframe tbody tr th {\n",
       "        vertical-align: top;\n",
       "    }\n",
       "\n",
       "    .dataframe thead th {\n",
       "        text-align: right;\n",
       "    }\n",
       "</style>\n",
       "<table border=\"1\" class=\"dataframe\">\n",
       "  <thead>\n",
       "    <tr style=\"text-align: right;\">\n",
       "      <th></th>\n",
       "      <th>game_id</th>\n",
       "      <th>text</th>\n",
       "      <th>json_output</th>\n",
       "      <th>label</th>\n",
       "    </tr>\n",
       "  </thead>\n",
       "  <tbody>\n",
       "    <tr>\n",
       "      <th>0</th>\n",
       "      <td>bkn_nop</td>\n",
       "      <td>alvarado fires away and buries the three</td>\n",
       "      <td>\"{\\\"team\\\":\\\"BKN\\\",\\\"opponent\\\":\\\"NOP\\\",\\\"grap...</td>\n",
       "      <td>1</td>\n",
       "    </tr>\n",
       "    <tr>\n",
       "      <th>1</th>\n",
       "      <td>bkn_nop</td>\n",
       "      <td>immediately after that miss not too often that...</td>\n",
       "      <td>\"{\\\"team\\\":\\\"BKN\\\",\\\"opponent\\\":\\\"NOP\\\",\\\"grap...</td>\n",
       "      <td>1</td>\n",
       "    </tr>\n",
       "    <tr>\n",
       "      <th>2</th>\n",
       "      <td>bkn_nop</td>\n",
       "      <td>have you never experienced it yourself i I hav...</td>\n",
       "      <td>\"{\\\"team\\\":\\\"BKN\\\",\\\"opponent\\\":\\\"NOP\\\",\\\"grap...</td>\n",
       "      <td>1</td>\n",
       "    </tr>\n",
       "    <tr>\n",
       "      <th>3</th>\n",
       "      <td>bkn_nop</td>\n",
       "      <td>olen had it slapped away by Williams perfectly...</td>\n",
       "      <td>\"{\\\"team\\\":\\\"BKN\\\",\\\"opponent\\\":\\\"NOP\\\",\\\"grap...</td>\n",
       "      <td>1</td>\n",
       "    </tr>\n",
       "    <tr>\n",
       "      <th>4</th>\n",
       "      <td>bkn_nop</td>\n",
       "      <td>alvarado buries the three jose Alvarado's seco...</td>\n",
       "      <td>\"{\\\"team\\\":\\\"BKN\\\",\\\"opponent\\\":\\\"NOP\\\",\\\"grap...</td>\n",
       "      <td>1</td>\n",
       "    </tr>\n",
       "  </tbody>\n",
       "</table>\n",
       "</div>"
      ],
      "text/plain": [
       "   game_id                                               text  \\\n",
       "0  bkn_nop           alvarado fires away and buries the three   \n",
       "1  bkn_nop  immediately after that miss not too often that...   \n",
       "2  bkn_nop  have you never experienced it yourself i I hav...   \n",
       "3  bkn_nop  olen had it slapped away by Williams perfectly...   \n",
       "4  bkn_nop  alvarado buries the three jose Alvarado's seco...   \n",
       "\n",
       "                                         json_output  label  \n",
       "0  \"{\\\"team\\\":\\\"BKN\\\",\\\"opponent\\\":\\\"NOP\\\",\\\"grap...      1  \n",
       "1  \"{\\\"team\\\":\\\"BKN\\\",\\\"opponent\\\":\\\"NOP\\\",\\\"grap...      1  \n",
       "2  \"{\\\"team\\\":\\\"BKN\\\",\\\"opponent\\\":\\\"NOP\\\",\\\"grap...      1  \n",
       "3  \"{\\\"team\\\":\\\"BKN\\\",\\\"opponent\\\":\\\"NOP\\\",\\\"grap...      1  \n",
       "4  \"{\\\"team\\\":\\\"BKN\\\",\\\"opponent\\\":\\\"NOP\\\",\\\"grap...      1  "
      ]
     },
     "execution_count": 85,
     "metadata": {},
     "output_type": "execute_result"
    }
   ],
   "source": [
    "merged.head()"
   ]
  },
  {
   "cell_type": "code",
   "execution_count": 86,
   "id": "68a1b365",
   "metadata": {},
   "outputs": [
    {
     "name": "stdout",
     "output_type": "stream",
     "text": [
      "| game_id   | text                                                                                                                                                   | json_output                                                                                                                                               |   label |\n",
      "|:----------|:-------------------------------------------------------------------------------------------------------------------------------------------------------|:----------------------------------------------------------------------------------------------------------------------------------------------------------|--------:|\n",
      "| bkn_nop   | alvarado fires away and buries the three                                                                                                               | \"{\\\"team\\\":\\\"BKN\\\",\\\"opponent\\\":\\\"NOP\\\",\\\"graph\\\":true,\\\"player_graph\\\":true,\\\"players\\\":[\\\"Alvarado\\\"],\\\"player_stat\\\":\\\"3P%\\\",\\\"team_stat\\\":null}\"      |       1 |\n",
      "| bkn_nop   | immediately after that miss not too often that you miss two clean shots in a row oh ricocheted into the arms of Brown and he reverses it in            | \"{\\\"team\\\":\\\"BKN\\\",\\\"opponent\\\":\\\"NOP\\\",\\\"graph\\\":true,\\\"player_graph\\\":true,\\\"players\\\":[\\\"Brown\\\"],\\\"player_stat\\\":\\\"FG%\\\",\\\"team_stat\\\":null}\"         |       1 |\n",
      "| bkn_nop   | have you never experienced it yourself i I have not experienced it yet that's my first ricochet sound i just hope we get Oh I hope we get more         | \"{\\\"team\\\":\\\"BKN\\\",\\\"opponent\\\":\\\"NOP\\\",\\\"graph\\\":false,\\\"player_graph\\\":false,\\\"players\\\":null,\\\"player_stat\\\":null,\\\"team_stat\\\":null}\"                 |       1 |\n",
      "| bkn_nop   | olen had it slapped away by Williams perfectly timed on that dig here's Claxton claxton flips it in                                                    | \"{\\\"team\\\":\\\"BKN\\\",\\\"opponent\\\":\\\"NOP\\\",\\\"graph\\\":true,\\\"player_graph\\\":true,\\\"players\\\":[\\\"Claxton\\\"],\\\"player_stat\\\":\\\"FG%\\\",\\\"team_stat\\\":null}\"       |       1 |\n",
      "| bkn_nop   | alvarado buries the three jose Alvarado's second make from deep on two attempts and he is brought already it feels like he's been here the entire year | \"{\\\"team\\\":\\\"BKN\\\",\\\"opponent\\\":\\\"NOP\\\",\\\"graph\\\":true,\\\"player_graph\\\":true,\\\"players\\\":[\\\"Jose Alvarado\\\"],\\\"player_stat\\\":\\\"3P%\\\",\\\"team_stat\\\":null}\" |       1 |\n"
     ]
    }
   ],
   "source": [
    "print(merged.head().to_markdown(index=False))  # For a nice Markdown-style table"
   ]
  },
  {
   "cell_type": "code",
   "execution_count": 87,
   "metadata": {},
   "outputs": [],
   "source": [
    "from transformers import BertTokenizer\n",
    "\n",
    "tokenizer = BertTokenizer.from_pretrained('bert-base-uncased')\n",
    "\n",
    "# Combine the text and JSON as input to BERT\n",
    "merged['input'] = merged['text'] + ' [SEP] ' + merged['json_output']\n",
    "\n",
    "# Tokenize\n",
    "tokens = tokenizer(\n",
    "    list(merged['input']),\n",
    "    padding=True,\n",
    "    truncation=True,\n",
    "    max_length=512,\n",
    "    return_tensors='np'  # Use numpy arrays instead\n",
    ")\n",
    "\n",
    "\n"
   ]
  },
  {
   "cell_type": "code",
   "execution_count": 88,
   "id": "4a359223",
   "metadata": {},
   "outputs": [],
   "source": [
    "dataset = Dataset.from_dict({\n",
    "    'input_ids': tokens['input_ids'],\n",
    "    'attention_mask': tokens['attention_mask'],\n",
    "    'label': merged['label'].values\n",
    "})"
   ]
  },
  {
   "cell_type": "code",
   "execution_count": 141,
   "id": "ea908988",
   "metadata": {},
   "outputs": [],
   "source": [
    "def oversample_dataset(dataset):\n",
    "    class_0 = dataset.filter(lambda x: x['label'] == 0)\n",
    "    return concatenate_datasets([dataset, class_0, class_0])  # 3x oversampling"
   ]
  },
  {
   "cell_type": "code",
   "execution_count": 114,
   "metadata": {},
   "outputs": [
    {
     "ename": "AttributeError",
     "evalue": "'DatasetDict' object has no attribute 'train_test_split'",
     "output_type": "error",
     "traceback": [
      "\u001b[31m---------------------------------------------------------------------------\u001b[39m",
      "\u001b[31mAttributeError\u001b[39m                            Traceback (most recent call last)",
      "\u001b[36mCell\u001b[39m\u001b[36m \u001b[39m\u001b[32mIn[142]\u001b[39m\u001b[32m, line 1\u001b[39m\n\u001b[32m----> \u001b[39m\u001b[32m1\u001b[39m train_test = \u001b[43mdataset\u001b[49m\u001b[43m.\u001b[49m\u001b[43mtrain_test_split\u001b[49m(test_size=\u001b[32m0.2\u001b[39m)\n\u001b[32m      2\u001b[39m train_dataset = oversample_dataset(train_test[\u001b[33m'\u001b[39m\u001b[33mtrain\u001b[39m\u001b[33m'\u001b[39m]).shuffle()\n\u001b[32m      3\u001b[39m val_dataset = train_test[\u001b[33m'\u001b[39m\u001b[33mtest\u001b[39m\u001b[33m'\u001b[39m]\n",
      "\u001b[31mAttributeError\u001b[39m: 'DatasetDict' object has no attribute 'train_test_split'"
     ]
    }
   ],
   "source": []
  },
  {
   "cell_type": "code",
   "execution_count": null,
   "metadata": {},
   "outputs": [],
   "source": [
    "labels = merged['label']  # Assuming train_dataset is already loaded\n",
    "class_counts = np.bincount(labels)\n",
    "pos_weight = len(labels) / (2 * class_counts[1])  # Weight for class 1\n",
    "neg_weight = len(labels) / (2 * class_counts[0])  # Weight for class 0\n",
    "class_weights = torch.tensor([neg_weight, pos_weight], dtype=torch.float32)"
   ]
  },
  {
   "cell_type": "code",
   "execution_count": 133,
   "metadata": {},
   "outputs": [],
   "source": [
    "import numpy as np\n",
    "from sklearn.metrics import precision_recall_fscore_support\n",
    "from transformers import EarlyStoppingCallback\n",
    "\n",
    "def compute_metrics(eval_pred):\n",
    "    logits, labels = eval_pred\n",
    "    preds = np.argmax(logits, axis=1)\n",
    "    \n",
    "    # Calculate for both classes (0 and 1)\n",
    "    precision, recall, f1, _ = precision_recall_fscore_support(\n",
    "        labels, preds, average=None, labels=[0, 1], zero_division=0\n",
    "    )\n",
    "    \n",
    "    return {\n",
    "        \"precision_0\": precision[0],  # Minority class\n",
    "        \"recall_0\": recall[0],\n",
    "        \"f1_0\": f1[0],\n",
    "        \"precision_1\": precision[1],   # Majority class\n",
    "        \"recall_1\": recall[1],\n",
    "        \"f1_1\": f1[1],\n",
    "        \"f1_macro\": (f1[0] + f1[1]) / 2,  # Macro-average F1\n",
    "    }"
   ]
  },
  {
   "cell_type": "code",
   "execution_count": 100,
   "id": "88eba782",
   "metadata": {},
   "outputs": [],
   "source": [
    "from transformers import BertForSequenceClassification, AutoModelForSequenceClassification, DistilBertForSequenceClassification\n",
    "from transformers import BertTokenizer, BertForSequenceClassification, Trainer, TrainingArguments"
   ]
  },
  {
   "cell_type": "code",
   "execution_count": 134,
   "metadata": {},
   "outputs": [],
   "source": [
    "training_args = TrainingArguments(\n",
    "    output_dir=\"./results\",\n",
    "    eval_strategy=\"epoch\",\n",
    "    save_strategy=\"epoch\",  \n",
    "    learning_rate=3e-5,\n",
    "    per_device_train_batch_size=8,\n",
    "    per_device_eval_batch_size=16,\n",
    "    num_train_epochs=4,\n",
    "    weight_decay=0.01,\n",
    "    logging_steps=10,           # Log metrics every 10 steps\n",
    "    logging_first_step=True,    # Log the first step\n",
    "    no_cuda=True,              # Disable CUDA if no GPU\n",
    "    load_best_model_at_end=True,  \n",
    "    metric_for_best_model=\"f1_0\",  # Track minority class F1\n",
    "    greater_is_better=True,     # Higher F1 is better\n",
    "    report_to=\"none\",           # Disable external logging\n",
    "    remove_unused_columns=True, # Saves memory\n",
    ")\n",
    "\n",
    "# Initialize Trainer\n",
    "trainer = Trainer(\n",
    "    model=model,  # Your pre-loaded model\n",
    "    args=training_args,\n",
    "    train_dataset=train_dataset,\n",
    "    eval_dataset=val_dataset,\n",
    "    compute_metrics=compute_metrics,\n",
    "    callbacks=[EarlyStoppingCallback(early_stopping_patience=2)]  # Stop if no improvement\n",
    ")\n"
   ]
  },
  {
   "cell_type": "code",
   "execution_count": null,
   "metadata": {},
   "outputs": [],
   "source": []
  },
  {
   "cell_type": "code",
   "execution_count": 135,
   "metadata": {},
   "outputs": [
    {
     "data": {
      "text/html": [
       "\n",
       "    <div>\n",
       "      \n",
       "      <progress value='99' max='132' style='width:300px; height:20px; vertical-align: middle;'></progress>\n",
       "      [ 99/132 04:45 < 01:37, 0.34 it/s, Epoch 3/4]\n",
       "    </div>\n",
       "    <table border=\"1\" class=\"dataframe\">\n",
       "  <thead>\n",
       " <tr style=\"text-align: left;\">\n",
       "      <th>Epoch</th>\n",
       "      <th>Training Loss</th>\n",
       "      <th>Validation Loss</th>\n",
       "      <th>Precision 0</th>\n",
       "      <th>Recall 0</th>\n",
       "      <th>F1 0</th>\n",
       "      <th>Precision 1</th>\n",
       "      <th>Recall 1</th>\n",
       "      <th>F1 1</th>\n",
       "      <th>F1 Macro</th>\n",
       "    </tr>\n",
       "  </thead>\n",
       "  <tbody>\n",
       "    <tr>\n",
       "      <td>1</td>\n",
       "      <td>0.360600</td>\n",
       "      <td>0.395394</td>\n",
       "      <td>0.000000</td>\n",
       "      <td>0.000000</td>\n",
       "      <td>0.000000</td>\n",
       "      <td>0.876923</td>\n",
       "      <td>1.000000</td>\n",
       "      <td>0.934426</td>\n",
       "      <td>0.467213</td>\n",
       "    </tr>\n",
       "    <tr>\n",
       "      <td>2</td>\n",
       "      <td>0.342400</td>\n",
       "      <td>0.437598</td>\n",
       "      <td>0.000000</td>\n",
       "      <td>0.000000</td>\n",
       "      <td>0.000000</td>\n",
       "      <td>0.876923</td>\n",
       "      <td>1.000000</td>\n",
       "      <td>0.934426</td>\n",
       "      <td>0.467213</td>\n",
       "    </tr>\n",
       "    <tr>\n",
       "      <td>3</td>\n",
       "      <td>0.303400</td>\n",
       "      <td>0.483708</td>\n",
       "      <td>0.000000</td>\n",
       "      <td>0.000000</td>\n",
       "      <td>0.000000</td>\n",
       "      <td>0.876923</td>\n",
       "      <td>1.000000</td>\n",
       "      <td>0.934426</td>\n",
       "      <td>0.467213</td>\n",
       "    </tr>\n",
       "  </tbody>\n",
       "</table><p>"
      ],
      "text/plain": [
       "<IPython.core.display.HTML object>"
      ]
     },
     "metadata": {},
     "output_type": "display_data"
    },
    {
     "data": {
      "text/plain": [
       "TrainOutput(global_step=99, training_loss=0.3124171171826546, metrics={'train_runtime': 290.5391, 'train_samples_per_second': 3.538, 'train_steps_per_second': 0.454, 'total_flos': 78449233377240.0, 'train_loss': 0.3124171171826546, 'epoch': 3.0})"
      ]
     },
     "execution_count": 135,
     "metadata": {},
     "output_type": "execute_result"
    }
   ],
   "source": [
    "trainer.train()"
   ]
  },
  {
   "cell_type": "code",
   "execution_count": 74,
   "metadata": {},
   "outputs": [
    {
     "name": "stderr",
     "output_type": "stream",
     "text": [
      "Some weights of DistilBertForSequenceClassification were not initialized from the model checkpoint at distilbert-base-uncased and are newly initialized: ['classifier.bias', 'classifier.weight', 'pre_classifier.bias', 'pre_classifier.weight']\n",
      "You should probably TRAIN this model on a down-stream task to be able to use it for predictions and inference.\n"
     ]
    },
    {
     "name": "stdout",
     "output_type": "stream",
     "text": [
      "\n",
      "🔁 Training with learning rate = 1e-05\n",
      "{'eval_loss': 0.6787074208259583, 'eval_runtime': 1.9287, 'eval_samples_per_second': 33.701, 'eval_steps_per_second': 2.592, 'epoch': 1.0}\n",
      "{'train_runtime': 49.163, 'train_samples_per_second': 5.228, 'train_steps_per_second': 0.671, 'train_loss': 0.6993870590672349, 'epoch': 1.0}\n"
     ]
    },
    {
     "name": "stderr",
     "output_type": "stream",
     "text": [
      "Some weights of DistilBertForSequenceClassification were not initialized from the model checkpoint at distilbert-base-uncased and are newly initialized: ['classifier.bias', 'classifier.weight', 'pre_classifier.bias', 'pre_classifier.weight']\n",
      "You should probably TRAIN this model on a down-stream task to be able to use it for predictions and inference.\n"
     ]
    },
    {
     "name": "stdout",
     "output_type": "stream",
     "text": [
      "{'eval_loss': 0.6787074208259583, 'eval_runtime': 1.9357, 'eval_samples_per_second': 33.58, 'eval_steps_per_second': 2.583, 'epoch': 1.0}\n",
      "📉 Final eval loss for lr=1e-05: 0.6787\n",
      "\n",
      "🔁 Training with learning rate = 2e-05\n",
      "{'eval_loss': 0.6737611293792725, 'eval_runtime': 1.8934, 'eval_samples_per_second': 34.33, 'eval_steps_per_second': 2.641, 'epoch': 1.0}\n",
      "{'train_runtime': 45.4722, 'train_samples_per_second': 5.652, 'train_steps_per_second': 0.726, 'train_loss': 0.7003947749282374, 'epoch': 1.0}\n"
     ]
    },
    {
     "name": "stderr",
     "output_type": "stream",
     "text": [
      "Some weights of DistilBertForSequenceClassification were not initialized from the model checkpoint at distilbert-base-uncased and are newly initialized: ['classifier.bias', 'classifier.weight', 'pre_classifier.bias', 'pre_classifier.weight']\n",
      "You should probably TRAIN this model on a down-stream task to be able to use it for predictions and inference.\n"
     ]
    },
    {
     "name": "stdout",
     "output_type": "stream",
     "text": [
      "{'eval_loss': 0.6737611293792725, 'eval_runtime': 1.909, 'eval_samples_per_second': 34.05, 'eval_steps_per_second': 2.619, 'epoch': 1.0}\n",
      "📉 Final eval loss for lr=2e-05: 0.6738\n",
      "\n",
      "🔁 Training with learning rate = 3e-05\n",
      "{'eval_loss': 0.6806286573410034, 'eval_runtime': 2.1168, 'eval_samples_per_second': 30.707, 'eval_steps_per_second': 2.362, 'epoch': 1.0}\n",
      "{'train_runtime': 46.7305, 'train_samples_per_second': 5.5, 'train_steps_per_second': 0.706, 'train_loss': 0.7069802717729048, 'epoch': 1.0}\n"
     ]
    },
    {
     "name": "stderr",
     "output_type": "stream",
     "text": [
      "Some weights of DistilBertForSequenceClassification were not initialized from the model checkpoint at distilbert-base-uncased and are newly initialized: ['classifier.bias', 'classifier.weight', 'pre_classifier.bias', 'pre_classifier.weight']\n",
      "You should probably TRAIN this model on a down-stream task to be able to use it for predictions and inference.\n"
     ]
    },
    {
     "name": "stdout",
     "output_type": "stream",
     "text": [
      "{'eval_loss': 0.6806286573410034, 'eval_runtime': 1.9302, 'eval_samples_per_second': 33.675, 'eval_steps_per_second': 2.59, 'epoch': 1.0}\n",
      "📉 Final eval loss for lr=3e-05: 0.6806\n",
      "\n",
      "🔁 Training with learning rate = 5e-05\n",
      "{'eval_loss': 0.667644739151001, 'eval_runtime': 1.8807, 'eval_samples_per_second': 34.561, 'eval_steps_per_second': 2.659, 'epoch': 1.0}\n",
      "{'train_runtime': 48.901, 'train_samples_per_second': 5.256, 'train_steps_per_second': 0.675, 'train_loss': 0.7169795758796461, 'epoch': 1.0}\n",
      "{'eval_loss': 0.667644739151001, 'eval_runtime': 1.8983, 'eval_samples_per_second': 34.242, 'eval_steps_per_second': 2.634, 'epoch': 1.0}\n",
      "📉 Final eval loss for lr=5e-05: 0.6676\n"
     ]
    }
   ],
   "source": [
    "for lr in [1e-5, 2e-5, 3e-5, 5e-5]:\n",
    "    print(f\"\\n🔁 Training with learning rate = {lr}\")\n",
    "\n",
    "    # Reload a fresh model each time to ensure fairness\n",
    "    model = AutoModelForSequenceClassification.from_pretrained(\n",
    "        \"distilbert-base-uncased\", num_labels=2\n",
    "    )\n",
    "\n",
    "    training_args = TrainingArguments(\n",
    "        output_dir=f\"./results/lr_{lr}\",     # Unique directory per run\n",
    "        eval_strategy=\"epoch\",\n",
    "        save_strategy=\"no\",\n",
    "        learning_rate=lr,\n",
    "        per_device_train_batch_size=8,\n",
    "        per_device_eval_batch_size=16,\n",
    "        num_train_epochs=1,\n",
    "        weight_decay=0.01,\n",
    "        logging_steps=500,\n",
    "        no_cuda=True,\n",
    "        disable_tqdm=True,\n",
    "        report_to=\"none\",\n",
    "        load_best_model_at_end=False\n",
    "    )\n",
    "\n",
    "    trainer = Trainer(\n",
    "        model=model,\n",
    "        args=training_args,\n",
    "        train_dataset=train_dataset,\n",
    "        eval_dataset=val_dataset,\n",
    "    )\n",
    "\n",
    "    trainer.train()\n",
    "    eval_result = trainer.evaluate()\n",
    "    print(f\"📉 Final eval loss for lr={lr}: {eval_result['eval_loss']:.4f}\")"
   ]
  },
  {
   "cell_type": "code",
   "execution_count": 59,
   "id": "cc077de2",
   "metadata": {},
   "outputs": [
    {
     "data": {
      "text/html": [
       "\n",
       "    <div>\n",
       "      \n",
       "      <progress value='9' max='9' style='width:300px; height:20px; vertical-align: middle;'></progress>\n",
       "      [9/9 00:03]\n",
       "    </div>\n",
       "    "
      ],
      "text/plain": [
       "<IPython.core.display.HTML object>"
      ]
     },
     "metadata": {},
     "output_type": "display_data"
    },
    {
     "name": "stdout",
     "output_type": "stream",
     "text": [
      "{'eval_loss': 0.6514582633972168, 'eval_runtime': 4.5306, 'eval_samples_per_second': 14.347, 'eval_steps_per_second': 1.986, 'epoch': 3.0}\n"
     ]
    }
   ],
   "source": [
    "results = trainer.evaluate()\n",
    "print(results)"
   ]
  },
  {
   "cell_type": "code",
   "execution_count": 91,
   "metadata": {},
   "outputs": [
    {
     "name": "stdout",
     "output_type": "stream",
     "text": [
      "label\n",
      "1    0.878882\n",
      "0    0.121118\n",
      "Name: proportion, dtype: float64\n"
     ]
    }
   ],
   "source": [
    "print(merged['label'].value_counts(normalize=True))"
   ]
  },
  {
   "cell_type": "code",
   "execution_count": 90,
   "metadata": {},
   "outputs": [
    {
     "data": {
      "text/plain": [
       "DatasetDict({\n",
       "    train: Dataset({\n",
       "        features: ['input_ids', 'attention_mask', 'label'],\n",
       "        num_rows: 257\n",
       "    })\n",
       "    test: Dataset({\n",
       "        features: ['input_ids', 'attention_mask', 'label'],\n",
       "        num_rows: 65\n",
       "    })\n",
       "})"
      ]
     },
     "execution_count": 90,
     "metadata": {},
     "output_type": "execute_result"
    }
   ],
   "source": [
    "dataset"
   ]
  }
 ],
 "metadata": {
  "kernelspec": {
   "display_name": ".venv",
   "language": "python",
   "name": "python3"
  },
  "language_info": {
   "codemirror_mode": {
    "name": "ipython",
    "version": 3
   },
   "file_extension": ".py",
   "mimetype": "text/x-python",
   "name": "python",
   "nbconvert_exporter": "python",
   "pygments_lexer": "ipython3",
   "version": "3.11.12"
  }
 },
 "nbformat": 4,
 "nbformat_minor": 5
}
